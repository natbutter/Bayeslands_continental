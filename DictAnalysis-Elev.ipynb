{
 "cells": [
  {
   "cell_type": "code",
   "execution_count": 18,
   "metadata": {},
   "outputs": [],
   "source": [
    "import numpy as np\n",
    "import io\n",
    "import sys\n",
    "import pandas as pd\n",
    "import pickle\n",
    "import seaborn as sns\n",
    "import matplotlib.pyplot as plt\n",
    "from pylab import rcParams\n",
    "import math\n",
    "from scipy import stats\n",
    "\n",
    "%matplotlib inline"
   ]
  },
  {
   "cell_type": "code",
   "execution_count": 19,
   "metadata": {},
   "outputs": [],
   "source": [
    "n_path = 'Examples/australia/xrun_6/realtime_data/'\n",
    "o_path = 'Examples/australia/xrun_6/realtime_data/'"
   ]
  },
  {
   "cell_type": "code",
   "execution_count": 20,
   "metadata": {},
   "outputs": [],
   "source": [
    "elev = np.loadtxt('Examples/australia/data/final_elev.txt')\n",
    "\n",
    "old_elev = pickle.load(open(\"%s0/pred_elev_vec.pkl\"%(o_path), \"rb\" ) )\n",
    "\n",
    "new_elev = pickle.load(open(\"%s1/pred_elev_vec.pkl\"%(n_path), \"rb\" ) )"
   ]
  },
  {
   "cell_type": "code",
   "execution_count": 21,
   "metadata": {},
   "outputs": [],
   "source": [
    "# # print(elev)\n",
    "# plt.figure(figsize=(10,5))\n",
    "# sns.heatmap(elev)\n",
    "\n",
    "# plt.figure(figsize=(10,5))\n",
    "# sns.heatmap(old_elev[0.0])\n",
    "\n",
    "# plt.figure(figsize=(10,5))\n",
    "# sns.heatmap(new_elev[0.0])\n",
    "\n",
    "# residual = old_elev[0.0] - new_elev[0.0]\n",
    "\n",
    "# plt.figure(figsize=(10,5))\n",
    "# sns.heatmap(residual)"
   ]
  },
  {
   "cell_type": "code",
   "execution_count": 22,
   "metadata": {},
   "outputs": [],
   "source": [
    "# elev[(elev < 0) | (elev > 400)] = 0\n",
    "# flat_elev = elev.flatten()\n",
    "\n",
    "# plt.figure(figsize=(10,5))\n",
    "# sns.distplot(flat_elev, bins = 30,kde = False)\n",
    "\n",
    "# old_elev = old_elev[0.0]\n",
    "\n",
    "# old_elev[(old_elev < 0) | (old_elev > 400)] = 0\n",
    "\n",
    "# old_elev_flat = old_elev\n",
    "# old_elev_flat = old_elev_flat.flatten()\n",
    "\n",
    "# plt.figure(figsize=(10,5))\n",
    "# sns.distplot(old_elev_flat,bins = 30, kde = False)\n",
    "\n",
    "# new_elev = new_elev[0.0]\n",
    "\n",
    "# new_elev[(new_elev < 0) | (new_elev > 400)] = 0\n",
    "\n",
    "# new_elev_flat = new_elev\n",
    "# new_elev_flat = new_elev_flat.flatten()\n",
    "\n",
    "# plt.figure(figsize=(10,5))\n",
    "# sns.distplot(new_elev_flat,bins = 30, kde = False)"
   ]
  },
  {
   "cell_type": "code",
   "execution_count": 23,
   "metadata": {},
   "outputs": [],
   "source": [
    "true_elev = elev\n",
    "old_elev = old_elev[0.0]\n",
    "new_elev = new_elev[0.0]\n"
   ]
  },
  {
   "cell_type": "code",
   "execution_count": 24,
   "metadata": {},
   "outputs": [
    {
     "name": "stdout",
     "output_type": "stream",
     "text": [
      "((129, 141), (129, 141), (129, 141))\n"
     ]
    }
   ],
   "source": [
    "print(true_elev.shape, old_elev.shape, new_elev.shape)"
   ]
  },
  {
   "cell_type": "code",
   "execution_count": 38,
   "metadata": {},
   "outputs": [
    {
     "name": "stdout",
     "output_type": "stream",
     "text": [
      "(array([[False, False, False, ..., False, False, False],\n",
      "       [False, False, False, ..., False, False, False],\n",
      "       [False, False, False, ..., False, False, False],\n",
      "       ...,\n",
      "       [False, False, False, ..., False, False, False],\n",
      "       [False, False, False, ..., False, False, False],\n",
      "       [False, False, False, ..., False, False, False]]), 'condition')\n",
      "[[-1. -1. -1. ... -1. -1. -1.]\n",
      " [-1. -1. -1. ... -1. -1. -1.]\n",
      " [-1. -1. -1. ... -1. -1. -1.]\n",
      " ...\n",
      " [-1. -1. -1. ... -1. -1. -1.]\n",
      " [-1. -1. -1. ... -1. -1. -1.]\n",
      " [-1. -1. -1. ... -1. -1. -1.]]\n"
     ]
    },
    {
     "data": {
      "text/plain": [
       "<matplotlib.axes._subplots.AxesSubplot at 0x7f940492dd90>"
      ]
     },
     "execution_count": 38,
     "metadata": {},
     "output_type": "execute_result"
    },
    {
     "data": {
      "image/png": "[encoded data removed]",
      "text/plain": [
       "<Figure size 720x360 with 2 Axes>"
      ]
     },
     "metadata": {},
     "output_type": "display_data"
    }
   ],
   "source": [
    "condition = (true_elev>0) & (true_elev<200)\n",
    "print(condition, 'condition')\n",
    "\n",
    "a = np.where((true_elev>0) & (true_elev<200), true_elev, -1)\n",
    "print(a)\n",
    "\n",
    "plt.figure(figsize=(10,5))\n",
    "sns.heatmap(a)"
   ]
  },
  {
   "cell_type": "code",
   "execution_count": 7,
   "metadata": {},
   "outputs": [
    {
     "ename": "NameError",
     "evalue": "name 'erdp_pts' is not defined",
     "output_type": "error",
     "traceback": [
      "\u001b[0;31m---------------------------------------------------------------------------\u001b[0m",
      "\u001b[0;31mNameError\u001b[0m                                 Traceback (most recent call last)",
      "\u001b[0;32m<ipython-input-7-f3fc7dba21ef>\u001b[0m in \u001b[0;36m<module>\u001b[0;34m()\u001b[0m\n\u001b[0;32m----> 1\u001b[0;31m \u001b[0;32mprint\u001b[0m\u001b[0;34m(\u001b[0m\u001b[0merdp_pts\u001b[0m\u001b[0;34m.\u001b[0m\u001b[0mshape\u001b[0m\u001b[0;34m,\u001b[0m \u001b[0mold_erdp_pts\u001b[0m\u001b[0;34m[\u001b[0m\u001b[0;36m0.0\u001b[0m\u001b[0;34m]\u001b[0m\u001b[0;34m.\u001b[0m\u001b[0mshape\u001b[0m\u001b[0;34m,\u001b[0m \u001b[0mnew_erdp_pts\u001b[0m\u001b[0;34m[\u001b[0m\u001b[0;36m0.0\u001b[0m\u001b[0;34m]\u001b[0m\u001b[0;34m.\u001b[0m\u001b[0mshape\u001b[0m\u001b[0;34m)\u001b[0m\u001b[0;34m\u001b[0m\u001b[0m\n\u001b[0m",
      "\u001b[0;31mNameError\u001b[0m: name 'erdp_pts' is not defined"
     ]
    }
   ],
   "source": [
    "print(erdp_pts.shape, old_erdp_pts[0.0].shape, new_erdp_pts[0.0].shape)"
   ]
  },
  {
   "cell_type": "code",
   "execution_count": null,
   "metadata": {},
   "outputs": [],
   "source": [
    "rcParams['figure.figsize'] = 20,8\n",
    "fig = plt.figure()\n",
    "ax1 = fig.add_subplot(111)\n",
    "ax1.plot(erdp_pts, color = 'b')\n",
    "ax1.plot(old_erdp_pts[0.0], color = 'r')\n",
    "# ax1.plot(new_erdp_pts[0.0], color = 'g')\n",
    "plt.show()"
   ]
  },
  {
   "cell_type": "code",
   "execution_count": null,
   "metadata": {},
   "outputs": [],
   "source": [
    "rcParams['figure.figsize'] = 20,8\n",
    "fig = plt.figure()\n",
    "ax1 = fig.add_subplot(111)\n",
    "ax1.plot(erdp_pts, color = 'b')\n",
    "# ax1.plot(old_erdp_pts[0.0], color = 'r')\n",
    "ax1.plot(new_erdp_pts[0.0], color = 'g')\n",
    "plt.show()"
   ]
  },
  {
   "cell_type": "code",
   "execution_count": null,
   "metadata": {},
   "outputs": [],
   "source": [
    "erdp_pts.shape[0]"
   ]
  },
  {
   "cell_type": "code",
   "execution_count": null,
   "metadata": {},
   "outputs": [],
   "source": [
    "tau_erodep  =  np.sum(np.square(old_erdp_pts[0.0] - erdp_pts))/ erdp_pts.shape[0]"
   ]
  },
  {
   "cell_type": "code",
   "execution_count": null,
   "metadata": {},
   "outputs": [],
   "source": [
    "likelihood_erodep  = np.sum(-0.5 * np.log(2 * math.pi * tau_erodep ) - 0.5 * np.square(old_erdp_pts[0.0] - erdp_pts) / tau_erodep )"
   ]
  },
  {
   "cell_type": "code",
   "execution_count": null,
   "metadata": {},
   "outputs": [],
   "source": [
    "print(tau_erodep, likelihood_erodep)\n",
    "rmse = np.sqrt(tau_erodep)\n",
    "print('rmse = ', rmse)"
   ]
  },
  {
   "cell_type": "code",
   "execution_count": null,
   "metadata": {},
   "outputs": [],
   "source": [
    "array = old_erdp_pts[0.0]\n",
    "# array[array < 0] = 0\n",
    "array[array < 0] = np.mean(erdp_pts)\n",
    "# array[array < 0] = np.mode(erdp_pts)\n"
   ]
  },
  {
   "cell_type": "code",
   "execution_count": null,
   "metadata": {},
   "outputs": [],
   "source": [
    "rcParams['figure.figsize'] = 20,8\n",
    "fig = plt.figure()\n",
    "ax1 = fig.add_subplot(111)\n",
    "ax1.plot(erdp_pts, color = 'b')\n",
    "ax1.plot(array, color = 'r')\n",
    "# ax1.plot(new_erdp_pts[0.0], color = 'g')\n",
    "plt.show()"
   ]
  },
  {
   "cell_type": "code",
   "execution_count": null,
   "metadata": {},
   "outputs": [],
   "source": [
    "plt.figure(figsize=(10,5))\n",
    "sns.distplot(array,bins = 30,kde = False)\n"
   ]
  },
  {
   "cell_type": "code",
   "execution_count": null,
   "metadata": {},
   "outputs": [],
   "source": [
    "tau_erodep  =  np.sum(np.square(array - erdp_pts))/ erdp_pts.shape[0]\n",
    "likelihood_erodep  = np.sum(-0.5 * np.log(2 * math.pi * tau_erodep ) - 0.5 * np.square(array - erdp_pts) / tau_erodep )\n",
    "print(tau_erodep, likelihood_erodep)\n",
    "rmse = np.sqrt(tau_erodep)\n",
    "print('rmse = ', rmse)"
   ]
  },
  {
   "cell_type": "code",
   "execution_count": null,
   "metadata": {},
   "outputs": [],
   "source": [
    "\n",
    "array = new_erdp_pts[0.0]\n",
    "# array[array < 0] = 0\n",
    "array[array < 0] = np.mean(erdp_pts)\n",
    "\n",
    "rcParams['figure.figsize'] = 20,8\n",
    "fig = plt.figure()\n",
    "ax1 = fig.add_subplot(111)\n",
    "ax1.plot(erdp_pts, color = 'b')\n",
    "ax1.plot(array, color = 'r')\n",
    "# ax1.plot(new_erdp_pts[0.0], color = 'g')\n",
    "plt.show()"
   ]
  },
  {
   "cell_type": "code",
   "execution_count": null,
   "metadata": {},
   "outputs": [],
   "source": [
    "plt.figure(figsize=(10,5))\n",
    "sns.distplot(array, bins = 30, kde = False)"
   ]
  },
  {
   "cell_type": "code",
   "execution_count": null,
   "metadata": {},
   "outputs": [],
   "source": [
    "tau_erodep  =  np.sum(np.square(array - erdp_pts))/ erdp_pts.shape[0]\n",
    "likelihood_erodep  = np.sum(-0.5 * np.log(2 * math.pi * tau_erodep ) - 0.5 * np.square(array - erdp_pts) / tau_erodep )\n",
    "print(tau_erodep, likelihood_erodep)\n",
    "rmse = np.sqrt(tau_erodep)\n",
    "print('rmse = ', rmse)"
   ]
  },
  {
   "cell_type": "code",
   "execution_count": null,
   "metadata": {},
   "outputs": [],
   "source": [
    "print(np.mean(erdp_pts))"
   ]
  },
  {
   "cell_type": "code",
   "execution_count": null,
   "metadata": {},
   "outputs": [],
   "source": []
  }
 ],
 "metadata": {
  "kernelspec": {
   "display_name": "Python 2",
   "language": "python",
   "name": "python2"
  },
  "language_info": {
   "codemirror_mode": {
    "name": "ipython",
    "version": 2
   },
   "file_extension": ".py",
   "mimetype": "text/x-python",
   "name": "python",
   "nbconvert_exporter": "python",
   "pygments_lexer": "ipython2",
   "version": "2.7.17"
  }
 },
 "nbformat": 4,
 "nbformat_minor": 2
}
