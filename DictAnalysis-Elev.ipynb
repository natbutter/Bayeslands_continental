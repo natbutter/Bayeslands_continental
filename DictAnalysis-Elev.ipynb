{
 "cells": [
  {
   "cell_type": "code",
   "execution_count": null,
   "metadata": {},
   "outputs": [],
   "source": [
    "import numpy as np\n",
    "import io\n",
    "import sys\n",
    "import pandas as pd\n",
    "import pickle\n",
    "import seaborn as sns\n",
    "import matplotlib.pyplot as plt\n",
    "from pylab import rcParams\n",
    "import math\n",
    "from scipy import stats\n",
    "\n",
    "\n",
    "%matplotlib inline"
   ]
  },
  {
   "cell_type": "code",
   "execution_count": null,
   "metadata": {},
   "outputs": [],
   "source": [
    "n_path = 'Examples/australia/results_6/realtime_data/'\n",
    "o_path = 'Examples/australia/results_6/realtime_data/'\n",
    "\n",
    "elev = 'Examples/australia/data/final_elev.txt'"
   ]
  },
  {
   "cell_type": "code",
   "execution_count": null,
   "metadata": {},
   "outputs": [],
   "source": [
    "old_elev = pickle.load(open(\"%s/0/pred_elev_vec.pkl\"%(o_path), \"rb\" ) )\n",
    "\n",
    "new_elev = pickle.load(open(\"%s/1/pred_elev_vec.pkl\"%(n_path), \"rb\" ) )\n"
   ]
  },
  {
   "cell_type": "code",
   "execution_count": null,
   "metadata": {},
   "outputs": [],
   "source": [
    "# plt.figure(figsize=(10,5))\n",
    "# sns.heatmap(old_erdp[0.0])\n",
    "\n",
    "# plt.figure(figsize=(10,5))\n",
    "# sns.heatmap(new_erdp[0.0])\n",
    "\n",
    "# residual = old_erdp[0.0] - new_erdp[0.0]\n",
    "\n",
    "# plt.figure(figsize=(10,5))\n",
    "# sns.heatmap(residual)\n",
    "\n",
    "# basin = old_erdp[0.0]\n",
    "# basin = basin[68:104,0:50]\n",
    "# plt.figure(figsize=(10,5))\n",
    "# sns.heatmap(basin)"
   ]
  },
  {
   "cell_type": "code",
   "execution_count": null,
   "metadata": {},
   "outputs": [],
   "source": [
    "\n",
    "# plt.figure(figsize=(10,5))\n",
    "# sns.heatmap(old_elev[0.0])\n",
    "\n",
    "\n",
    "# plt.figure(figsize=(10,5))\n",
    "# sns.heatmap(new_elev[0.0])\n",
    "\n",
    "# residual_elev = old_elev[0.0] - new_elev[0.0]\n",
    "# plt.figure(figsize=(10,5))\n",
    "# sns.heatmap(residual_elev)"
   ]
  },
  {
   "cell_type": "code",
   "execution_count": null,
   "metadata": {},
   "outputs": [],
   "source": [
    "erdp_pts = np.loadtxt('Examples/australia/data/final_erdp_pts_.txt')\n",
    "plt.figure(figsize=(10,5))\n",
    "sns.distplot(erdp_pts, bins = 30,kde = False)"
   ]
  },
  {
   "cell_type": "code",
   "execution_count": null,
   "metadata": {},
   "outputs": [],
   "source": [
    "# plt.figure(figsize=(10,5))\n",
    "# sns.distplot(old_erdp_pts[0.0],bins = 30, kde = False)"
   ]
  },
  {
   "cell_type": "code",
   "execution_count": null,
   "metadata": {},
   "outputs": [],
   "source": [
    "# plt.figure(figsize=(10,5))\n",
    "# sns.distplot(new_erdp_pts[0.0], bins = 30, kde = False)"
   ]
  },
  {
   "cell_type": "code",
   "execution_count": null,
   "metadata": {},
   "outputs": [],
   "source": [
    "print(erdp_pts.shape, old_erdp_pts[0.0].shape, new_erdp_pts[0.0].shape)"
   ]
  },
  {
   "cell_type": "code",
   "execution_count": null,
   "metadata": {},
   "outputs": [],
   "source": [
    "rcParams['figure.figsize'] = 20,8\n",
    "fig = plt.figure()\n",
    "ax1 = fig.add_subplot(111)\n",
    "ax1.plot(erdp_pts, color = 'b')\n",
    "ax1.plot(old_erdp_pts[0.0], color = 'r')\n",
    "# ax1.plot(new_erdp_pts[0.0], color = 'g')\n",
    "plt.show()"
   ]
  },
  {
   "cell_type": "code",
   "execution_count": null,
   "metadata": {},
   "outputs": [],
   "source": [
    "rcParams['figure.figsize'] = 20,8\n",
    "fig = plt.figure()\n",
    "ax1 = fig.add_subplot(111)\n",
    "ax1.plot(erdp_pts, color = 'b')\n",
    "# ax1.plot(old_erdp_pts[0.0], color = 'r')\n",
    "ax1.plot(new_erdp_pts[0.0], color = 'g')\n",
    "plt.show()"
   ]
  },
  {
   "cell_type": "code",
   "execution_count": null,
   "metadata": {},
   "outputs": [],
   "source": [
    "erdp_pts.shape[0]"
   ]
  },
  {
   "cell_type": "code",
   "execution_count": null,
   "metadata": {},
   "outputs": [],
   "source": [
    "tau_erodep  =  np.sum(np.square(old_erdp_pts[0.0] - erdp_pts))/ erdp_pts.shape[0]"
   ]
  },
  {
   "cell_type": "code",
   "execution_count": null,
   "metadata": {},
   "outputs": [],
   "source": [
    "likelihood_erodep  = np.sum(-0.5 * np.log(2 * math.pi * tau_erodep ) - 0.5 * np.square(old_erdp_pts[0.0] - erdp_pts) / tau_erodep )"
   ]
  },
  {
   "cell_type": "code",
   "execution_count": null,
   "metadata": {},
   "outputs": [],
   "source": [
    "print(tau_erodep, likelihood_erodep)\n",
    "rmse = np.sqrt(tau_erodep)\n",
    "print('rmse = ', rmse)"
   ]
  },
  {
   "cell_type": "code",
   "execution_count": null,
   "metadata": {},
   "outputs": [],
   "source": [
    "array = old_erdp_pts[0.0]\n",
    "# array[array < 0] = 0\n",
    "array[array < 0] = np.mean(erdp_pts)\n",
    "# array[array < 0] = np.mode(erdp_pts)\n"
   ]
  },
  {
   "cell_type": "code",
   "execution_count": null,
   "metadata": {},
   "outputs": [],
   "source": [
    "rcParams['figure.figsize'] = 20,8\n",
    "fig = plt.figure()\n",
    "ax1 = fig.add_subplot(111)\n",
    "ax1.plot(erdp_pts, color = 'b')\n",
    "ax1.plot(array, color = 'r')\n",
    "# ax1.plot(new_erdp_pts[0.0], color = 'g')\n",
    "plt.show()"
   ]
  },
  {
   "cell_type": "code",
   "execution_count": null,
   "metadata": {},
   "outputs": [],
   "source": [
    "plt.figure(figsize=(10,5))\n",
    "sns.distplot(array,bins = 30,kde = False)\n"
   ]
  },
  {
   "cell_type": "code",
   "execution_count": null,
   "metadata": {},
   "outputs": [],
   "source": [
    "tau_erodep  =  np.sum(np.square(array - erdp_pts))/ erdp_pts.shape[0]\n",
    "likelihood_erodep  = np.sum(-0.5 * np.log(2 * math.pi * tau_erodep ) - 0.5 * np.square(array - erdp_pts) / tau_erodep )\n",
    "print(tau_erodep, likelihood_erodep)\n",
    "rmse = np.sqrt(tau_erodep)\n",
    "print('rmse = ', rmse)"
   ]
  },
  {
   "cell_type": "code",
   "execution_count": null,
   "metadata": {},
   "outputs": [],
   "source": [
    "\n",
    "array = new_erdp_pts[0.0]\n",
    "# array[array < 0] = 0\n",
    "array[array < 0] = np.mean(erdp_pts)\n",
    "\n",
    "rcParams['figure.figsize'] = 20,8\n",
    "fig = plt.figure()\n",
    "ax1 = fig.add_subplot(111)\n",
    "ax1.plot(erdp_pts, color = 'b')\n",
    "ax1.plot(array, color = 'r')\n",
    "# ax1.plot(new_erdp_pts[0.0], color = 'g')\n",
    "plt.show()"
   ]
  },
  {
   "cell_type": "code",
   "execution_count": null,
   "metadata": {},
   "outputs": [],
   "source": [
    "plt.figure(figsize=(10,5))\n",
    "sns.distplot(array, bins = 30, kde = False)"
   ]
  },
  {
   "cell_type": "code",
   "execution_count": null,
   "metadata": {},
   "outputs": [],
   "source": [
    "tau_erodep  =  np.sum(np.square(array - erdp_pts))/ erdp_pts.shape[0]\n",
    "likelihood_erodep  = np.sum(-0.5 * np.log(2 * math.pi * tau_erodep ) - 0.5 * np.square(array - erdp_pts) / tau_erodep )\n",
    "print(tau_erodep, likelihood_erodep)\n",
    "rmse = np.sqrt(tau_erodep)\n",
    "print('rmse = ', rmse)"
   ]
  },
  {
   "cell_type": "code",
   "execution_count": null,
   "metadata": {},
   "outputs": [],
   "source": [
    "print(np.mean(erdp_pts))"
   ]
  },
  {
   "cell_type": "code",
   "execution_count": null,
   "metadata": {},
   "outputs": [],
   "source": []
  }
 ],
 "metadata": {
  "kernelspec": {
   "display_name": "Python 2",
   "language": "python",
   "name": "python2"
  },
  "language_info": {
   "codemirror_mode": {
    "name": "ipython",
    "version": 2
   },
   "file_extension": ".py",
   "mimetype": "text/x-python",
   "name": "python",
   "nbconvert_exporter": "python",
   "pygments_lexer": "ipython2",
   "version": "2.7.17"
  }
 },
 "nbformat": 4,
 "nbformat_minor": 2
}
