{
 "cells": [
  {
   "cell_type": "markdown",
   "metadata": {},
   "source": [
    "# Analyse pyBadlands stratigraphic output\n",
    "\n",
    "If the stratigraphic structure is turned on in the input.xml file, **pyBadlands** produces sedimentary layers recorded by hdf5 files. The stratigraphic layers are defined on a regularly spaced grid and a layer is recorded at each layer time interval given by the user.\n",
    "\n",
    "Here we show how we can visualise quickly the structure of the stratigraphic layer in an IPython notebook."
   ]
  },
  {
   "cell_type": "code",
   "execution_count": 4,
   "metadata": {},
   "outputs": [
    {
     "ename": "ImportError",
     "evalue": "No module named vis_scripts",
     "output_type": "error",
     "traceback": [
      "\u001b[0;31m---------------------------------------------------------------------------\u001b[0m",
      "\u001b[0;31mImportError\u001b[0m                               Traceback (most recent call last)",
      "\u001b[0;32m<ipython-input-4-f6e487ee8a78>\u001b[0m in \u001b[0;36m<module>\u001b[0;34m()\u001b[0m\n\u001b[1;32m      9\u001b[0m \u001b[0;34m\u001b[0m\u001b[0m\n\u001b[1;32m     10\u001b[0m \u001b[0;31m# Import the python file (.py) which contains all defined functions\u001b[0m\u001b[0;34m\u001b[0m\u001b[0;34m\u001b[0m\u001b[0m\n\u001b[0;32m---> 11\u001b[0;31m \u001b[0;32mfrom\u001b[0m \u001b[0mvis_scripts\u001b[0m \u001b[0;32mimport\u001b[0m \u001b[0mstratalArchitecture\u001b[0m \u001b[0;32mas\u001b[0m \u001b[0mstrata\u001b[0m\u001b[0;34m\u001b[0m\u001b[0m\n\u001b[0m\u001b[1;32m     12\u001b[0m \u001b[0;34m\u001b[0m\u001b[0m\n\u001b[1;32m     13\u001b[0m \u001b[0;31m# Display plots in SVG format\u001b[0m\u001b[0;34m\u001b[0m\u001b[0;34m\u001b[0m\u001b[0m\n",
      "\u001b[0;31mImportError\u001b[0m: No module named vis_scripts"
     ]
    }
   ],
   "source": [
    "import os\n",
    "import numpy as np\n",
    "import cmocean as cmo\n",
    "import matplotlib as mpl\n",
    "from matplotlib import mlab, cm\n",
    "import matplotlib.mlab as ml\n",
    "import matplotlib.pyplot as plt\n",
    "import matplotlib.colors\n",
    "\n",
    "# Import the python file (.py) which contains all defined functions\n",
    "from vis_scripts import stratalArchitecture as strata\n",
    "\n",
    "# Display plots in SVG format\n",
    "%config InlineBackend.figure_format = 'svg'\n",
    "\n",
    "# Display plots in cells\n",
    "%matplotlib inline"
   ]
  },
  {
   "cell_type": "markdown",
   "metadata": {},
   "source": [
    "# 1-  Visualize stratigraphic layers on a cross-section\n",
    "\n",
    "## 1.1- Loading the stratigraphic file\n",
    "\n",
    "First we need to load the stratigraphic files. The files are located in the **h5/** folder in the simulation main output folder and are named using the following convention:\n",
    "- `sed.time`T`.p`X`.hdf5`\n",
    "\n",
    "with T the display time index and X the number of the partition (used in the parallel version). In cases where you ran your simulation in parallel you will also need to give the number of CPUs used (_cpus_).\n",
    "\n",
    "To load a file you will need to give the folder path and the number of processors used in your simulation."
   ]
  },
  {
   "cell_type": "code",
   "execution_count": null,
   "metadata": {},
   "outputs": [],
   "source": [
    "# For more information regarding the function uncomment the following line.\n",
    "# help(strata.stratalSection.__init__)"
   ]
  },
  {
   "cell_type": "code",
   "execution_count": null,
   "metadata": {},
   "outputs": [],
   "source": [
    "# folder = 'case3_aus/output/h5/'  # output folder path\n",
    "folder = 'case3_aus/output_/h5/'  # output folder path\n",
    "strat = strata.stratalSection(folder, 1)"
   ]
  },
  {
   "cell_type": "markdown",
   "metadata": {},
   "source": [
    "Then we need to load a particular output time interval (this is the T parameter in the hdf5 file name convention).\n",
    "\n",
    "**Note**\n",
    "\n",
    "This number is not always the number of sedimentary layers for this particular time step as you could have chosen in the input file to have more than 1 sedimentary layer recorded by output interval!"
   ]
  },
  {
   "cell_type": "code",
   "execution_count": null,
   "metadata": {},
   "outputs": [],
   "source": [
    "# help(strat.loadStratigraphy)\n",
    "# help(strat.loadTIN)"
   ]
  },
  {
   "cell_type": "code",
   "execution_count": null,
   "metadata": {},
   "outputs": [],
   "source": [
    "timestep = 140\n",
    "strat.loadStratigraphy(timestep)  # load strata files\n",
    "strat.loadTIN(timestep)  # load TIN files"
   ]
  },
  {
   "cell_type": "markdown",
   "metadata": {},
   "source": [
    "**Important** \n",
    "\n",
    "If you want to change the timestep, you need to restart this script (in the top menu, Kernel->Restart) and run from the first cell."
   ]
  },
  {
   "cell_type": "markdown",
   "metadata": {},
   "source": [
    "## 1.2- Building a cross-section\n",
    "\n",
    "To build a cross-section to visualise the stratigraphic layers, you will need to provide:\n",
    "\n",
    "+ the coordinates of two points deliminating the cross-section **_(x1,y1)_** and **_(x2,y2)_**, \n",
    "+ the number of nodes that defines the resolution of this cross-section **_nbpts_** and\n",
    "+ a gaussian filter value to smooth the the stratigraphic layer (**_gfilt_** a value of 0 can be used for non-smoothing).\n",
    "\n",
    "Plotting the topography map from the model output can help you to define the location of the cross-section."
   ]
  },
  {
   "cell_type": "code",
   "execution_count": null,
   "metadata": {},
   "outputs": [],
   "source": [
    "# help(strat.plotSectionMap)"
   ]
  },
  {
   "cell_type": "code",
   "execution_count": null,
   "metadata": {},
   "outputs": [],
   "source": [
    "strat.plotSectionMap(title='Topography map', xlegend='Distance (m)', ylegend='Distance (m)', \n",
    "                     color=cmo.cm.delta, crange=[-2000,2000], cs=None, size=(6,6))"
   ]
  },
  {
   "cell_type": "code",
   "execution_count": null,
   "metadata": {},
   "outputs": [],
   "source": [
    "# Coordinates [x,y] of two points on the cross-section\n",
    "cs=np.zeros((2,2))\n",
    "cs[0,:] = [2137110.46715,7087591.94151]  # point 1\n",
    "cs[1,:] = [-112889.532847,7087591.94151]  # point 2\n",
    "\n",
    "# Interpolation parameters\n",
    "nbpts = 500  \n",
    "gfilt = 2  \n",
    "\n",
    "# Show the location of the cross-section on the topography map\n",
    "strat.plotSectionMap(title='Topography map', xlegend='Distance (m)', ylegend='Distance (m)',\n",
    "                     color=cmo.cm.delta, colorcs='magenta', crange=[-2000,2000], cs=cs, size=(6,6))"
   ]
  },
  {
   "cell_type": "code",
   "execution_count": null,
   "metadata": {},
   "outputs": [],
   "source": [
    "# Build cross-section\n",
    "strat.buildSection(xo = cs[0,0], yo = cs[0,1], xm = cs[1,0], ym = cs[1,1], pts = nbpts, gfilter = gfilt)"
   ]
  },
  {
   "cell_type": "markdown",
   "metadata": {},
   "source": [
    "## 1.3- Visualize stratal stacking pattern coloured by time\n",
    "\n",
    "First, we use **plotly** to visualise the vertival cross-section of stratal stacking pattern."
   ]
  },
  {
   "cell_type": "code",
   "execution_count": null,
   "metadata": {},
   "outputs": [],
   "source": [
    "strata.viewSection(width = 800, height = 500, cs = strat, \n",
    "            dnlay = 2, rangeX=[2000, 10000], rangeY=[-400,200],\n",
    "            linesize = 0.5, title='Stratal stacking pattern coloured by time')"
   ]
  },
  {
   "cell_type": "markdown",
   "metadata": {},
   "source": [
    "## 1.4- Visualize stratal stacking pattern coloured by facies\n",
    "\n",
    "First we build paleo-depositional environment (facies) structure based on the paleo-water depth. For example ([reference](https://opentextbc.ca/geology/chapter/6-3-depositional-environments-and-sedimentary-basins/)),\n",
    "\n",
    "<img src=\"images/depo-envi.png\" alt=\"depositional environments\" width=\"900\" height=\"500\"/>"
   ]
  },
  {
   "cell_type": "code",
   "execution_count": null,
   "metadata": {},
   "outputs": [],
   "source": [
    "# Specify the range of water depth for the depositional environments, see the table above\n",
    "depthID = [0, -25, -100, -200, -500]\n",
    "\n",
    "# Define colors for depositional environments, with number of colors equals to len(depthID) + 2\n",
    "colorDepoenvi = ['white','limegreen','darkkhaki','sandybrown','khaki','c','teal'] \n",
    "# 'White' colors where either no deposition or deposited sediemnt thickness < 0.01 m.\n",
    "\n",
    "# Build an array of depositional environment ID (enviID)\n",
    "enviID = np.zeros((strat.nz, len(strat.dist)))\n",
    "enviID = strata.buildEnviID(cs = strat, depthID = depthID)"
   ]
  },
  {
   "cell_type": "code",
   "execution_count": null,
   "metadata": {},
   "outputs": [],
   "source": [
    "# Plot stratal stacking pattern colored by paleo-depositional environments\n",
    "# It can take up to 5 mins...\n",
    "# Need to be careful with dnlay in the following line.\n",
    "strata.viewDepoenvi(width = 8, height = 5, cs = strat, enviID = enviID, dnlay = 2, color = colorDepoenvi, \n",
    "                    rangeX=[2000, 12000], rangeY=[-500,100], savefig = 'Yes', figname = 'delta_strata_depoenvi')"
   ]
  },
  {
   "cell_type": "markdown",
   "metadata": {},
   "source": [
    "# 2-  Build a Wheeler diagram\n",
    "\n",
    "Wheeler diagram (or chronostratigraphic chart) is a powerful tool to document unconformities between sequences, and to understand the evolution of sedimentary stacking patterns and their relationships to sea level. It displays the horizontal distribution of contemporaneous sedimentary layer sequences, as well as hiatuses in sedimentation."
   ]
  },
  {
   "cell_type": "code",
   "execution_count": null,
   "metadata": {},
   "outputs": [],
   "source": [
    "# Time structure of the model, corresponding to the Time structure in the input.xml file\n",
    "start_time = 0.  # the start time of the model run [a]\n",
    "disptime = 50000.  # the layer interval of the strata module [a]\n",
    "end_time = start_time + disptime * timestep  # the time of the loaded output [a]\n",
    "layertime = np.linspace(start_time,end_time,strat.nz)  # time of the layers\n",
    "\n",
    "# Plot Wheeler diagram\n",
    "strata.viewWheeler(width = 7, height = 4, cs = strat, enviID = enviID, time = layertime, dnlay = 3, color = colorDepoenvi, \n",
    "                   rangeX=[2000, 12000], rangeY = None, savefig = 'Yes', figname = 'delta_Wheeler_diagram')"
   ]
  },
  {
   "cell_type": "markdown",
   "metadata": {},
   "source": [
    "# 3-  Extract synthetic cores\n",
    "\n",
    "To plot the synthetic cores (vertical stacking patterns) at any locations on the cross-section, you need to give the location of the core."
   ]
  },
  {
   "cell_type": "code",
   "execution_count": null,
   "metadata": {},
   "outputs": [],
   "source": [
    "# Location of the core on the cross-section (m)\n",
    "posit = 7000\n",
    "\n",
    "# Plot the core\n",
    "strata.viewCore(width = 2, height = 5, cs = strat, enviID = enviID, posit = posit, time = layertime, \n",
    "                color = colorDepoenvi, rangeX = None, rangeY = None, savefig = 'Yes', figname = 'delta_core')"
   ]
  },
  {
   "cell_type": "code",
   "execution_count": null,
   "metadata": {},
   "outputs": [],
   "source": []
  }
 ],
 "metadata": {
  "anaconda-cloud": {},
  "kernelspec": {
   "display_name": "Python 2",
   "language": "python",
   "name": "python2"
  },
  "language_info": {
   "codemirror_mode": {
    "name": "ipython",
    "version": 2
   },
   "file_extension": ".py",
   "mimetype": "text/x-python",
   "name": "python",
   "nbconvert_exporter": "python",
   "pygments_lexer": "ipython2",
   "version": "2.7.12"
  }
 },
 "nbformat": 4,
 "nbformat_minor": 1
}
